{
  "nbformat": 4,
  "nbformat_minor": 0,
  "metadata": {
    "colab": {
      "provenance": [],
      "gpuType": "T4"
    },
    "kernelspec": {
      "name": "python3",
      "display_name": "Python 3"
    },
    "language_info": {
      "name": "python"
    },
    "accelerator": "GPU"
  },
  "cells": [
    {
      "cell_type": "code",
      "execution_count": 1,
      "metadata": {
        "id": "0c38A77Xojth"
      },
      "outputs": [],
      "source": [
        "import torch\n",
        "import torch.nn as nn"
      ]
    },
    {
      "cell_type": "code",
      "source": [
        "device = torch.device(\"cuda:0\")"
      ],
      "metadata": {
        "id": "vpBGVOb-otWm"
      },
      "execution_count": 2,
      "outputs": []
    },
    {
      "cell_type": "markdown",
      "source": [
        "This model will use:\n",
        "\n",
        "https://www.kaggle.com/datasets/lakshmi25npathi/imdb-dataset-of-50k-movie-reviews"
      ],
      "metadata": {
        "id": "Obmebb_AowMy"
      }
    },
    {
      "cell_type": "code",
      "source": [
        "import pandas as pd\n",
        "df = pd.read_csv('IMDB Dataset.csv')\n",
        "print(df.head())"
      ],
      "metadata": {
        "colab": {
          "base_uri": "https://localhost:8080/"
        },
        "id": "FPvz1jZxowvt",
        "outputId": "8a16c28b-b811-4743-d652-1f3129f04c13"
      },
      "execution_count": 3,
      "outputs": [
        {
          "output_type": "stream",
          "name": "stdout",
          "text": [
            "                                              review sentiment\n",
            "0  One of the other reviewers has mentioned that ...  positive\n",
            "1  A wonderful little production. <br /><br />The...  positive\n",
            "2  I thought this was a wonderful way to spend ti...  positive\n",
            "3  Basically there's a family where a little boy ...  negative\n",
            "4  Petter Mattei's \"Love in the Time of Money\" is...  positive\n"
          ]
        }
      ]
    },
    {
      "cell_type": "code",
      "source": [
        "from torch.utils.data import Dataset, DataLoader\n",
        "\n",
        "class CustomDataset(Dataset):\n",
        "    def __init__(self, file_path):\n",
        "        self.df = pd.read_csv(file_path)\n",
        "\n",
        "    def __len__(self):\n",
        "        return len(self.df)\n",
        "\n",
        "    def __getitem__(self, index):\n",
        "        review = self.df.iloc[index, 0]\n",
        "        label = self.df.iloc[index, 1]\n",
        "\n",
        "\n",
        "        return label, review"
      ],
      "metadata": {
        "id": "-Ansm2CcoywQ"
      },
      "execution_count": 4,
      "outputs": []
    },
    {
      "cell_type": "code",
      "source": [
        "complete_dataset = CustomDataset(file_path='IMDB Dataset.csv')\n",
        "print(len(complete_dataset))\n",
        "print(complete_dataset[1])"
      ],
      "metadata": {
        "colab": {
          "base_uri": "https://localhost:8080/"
        },
        "id": "TtXRF-jto1Oc",
        "outputId": "53ff688c-94c0-4f5f-8894-45401b603844"
      },
      "execution_count": 5,
      "outputs": [
        {
          "output_type": "stream",
          "name": "stdout",
          "text": [
            "50000\n",
            "('positive', 'A wonderful little production. <br /><br />The filming technique is very unassuming- very old-time-BBC fashion and gives a comforting, and sometimes discomforting, sense of realism to the entire piece. <br /><br />The actors are extremely well chosen- Michael Sheen not only \"has got all the polari\" but he has all the voices down pat too! You can truly see the seamless editing guided by the references to Williams\\' diary entries, not only is it well worth the watching but it is a terrificly written and performed piece. A masterful production about one of the great master\\'s of comedy and his life. <br /><br />The realism really comes home with the little things: the fantasy of the guard which, rather than use the traditional \\'dream\\' techniques remains solid then disappears. It plays on our knowledge and our senses, particularly with the scenes concerning Orton and Halliwell and the sets (particularly of their flat with Halliwell\\'s murals decorating every surface) are terribly well done.')\n"
          ]
        }
      ]
    },
    {
      "cell_type": "code",
      "source": [
        "from torch.utils.data.dataset import random_split\n",
        "\n",
        "train_dataset, test_dataset = random_split(complete_dataset, [25000, 25000])\n",
        "\n",
        "train_dataset, val_dataset = random_split(train_dataset, [22500, 2500])"
      ],
      "metadata": {
        "id": "JP4Lfhemo3Z7"
      },
      "execution_count": 6,
      "outputs": []
    },
    {
      "cell_type": "code",
      "source": [
        "from transformers import AutoTokenizer\n",
        "tokenizer = AutoTokenizer.from_pretrained(\"google-bert/bert-base-uncased\")"
      ],
      "metadata": {
        "id": "rztG7ok1o7AL",
        "colab": {
          "base_uri": "https://localhost:8080/"
        },
        "outputId": "18b4939e-540e-4dd6-b1dc-114b162be5aa"
      },
      "execution_count": 7,
      "outputs": [
        {
          "output_type": "stream",
          "name": "stderr",
          "text": [
            "/usr/local/lib/python3.10/dist-packages/huggingface_hub/utils/_auth.py:94: UserWarning: \n",
            "The secret `HF_TOKEN` does not exist in your Colab secrets.\n",
            "To authenticate with the Hugging Face Hub, create a token in your settings tab (https://huggingface.co/settings/tokens), set it as secret in your Google Colab and restart your session.\n",
            "You will be able to reuse this secret in all of your notebooks.\n",
            "Please note that authentication is recommended but still optional to access public models or datasets.\n",
            "  warnings.warn(\n"
          ]
        }
      ]
    },
    {
      "cell_type": "code",
      "source": [
        "print(\"Tokens: \", tokenizer.tokenize(\"Kevin is great!\"))"
      ],
      "metadata": {
        "colab": {
          "base_uri": "https://localhost:8080/"
        },
        "id": "MshTdrz4o9Oi",
        "outputId": "0abf3d5a-2b2d-4e8e-8287-7f319bec0ba0"
      },
      "execution_count": 8,
      "outputs": [
        {
          "output_type": "stream",
          "name": "stdout",
          "text": [
            "Tokens:  ['kevin', 'is', 'great', '!']\n"
          ]
        }
      ]
    },
    {
      "cell_type": "code",
      "source": [
        "print(tokenizer.convert_tokens_to_ids(['kevin', 'is', 'great', '!']))"
      ],
      "metadata": {
        "colab": {
          "base_uri": "https://localhost:8080/"
        },
        "id": "O9ONm57Yo_lj",
        "outputId": "42436b49-34cf-44d5-96c8-88061317d021"
      },
      "execution_count": 9,
      "outputs": [
        {
          "output_type": "stream",
          "name": "stdout",
          "text": [
            "[4901, 2003, 2307, 999]\n"
          ]
        }
      ]
    },
    {
      "cell_type": "code",
      "source": [
        "def str_to_list_nums(str):\n",
        "    tokens = tokenizer.tokenize(str)\n",
        "    return tokenizer.convert_tokens_to_ids(tokens)\n",
        "\n",
        "print(str_to_list_nums('Kevin is great!'))"
      ],
      "metadata": {
        "colab": {
          "base_uri": "https://localhost:8080/"
        },
        "id": "T1ElgBUUpDKM",
        "outputId": "243d14dd-cc0f-490c-c8a3-a4476aaf3e6c"
      },
      "execution_count": 10,
      "outputs": [
        {
          "output_type": "stream",
          "name": "stdout",
          "text": [
            "[4901, 2003, 2307, 999]\n"
          ]
        }
      ]
    },
    {
      "cell_type": "code",
      "source": [
        "# Our model has a sigmoid output, so let's change the labels to 0 for negative and 1 for positive.\n",
        "def change_label_for_sigmoid(label):\n",
        "    if label == 'positive':\n",
        "        return 1.\n",
        "    else:\n",
        "        return 0."
      ],
      "metadata": {
        "id": "n661gkIkpEJP"
      },
      "execution_count": 11,
      "outputs": []
    },
    {
      "cell_type": "code",
      "source": [
        "from torch.nn.utils.rnn import pad_sequence\n",
        "\n",
        "def collate_fn(batch):\n",
        "    labels, reviews = list(zip(*batch))\n",
        "\n",
        "    converted_reviews_batch = [torch.tensor(str_to_list_nums(review)) for review in reviews]\n",
        "    padded_reviews_batch = pad_sequence(converted_reviews_batch, batch_first=True)\n",
        "\n",
        "    labels_batch = torch.tensor([change_label_for_sigmoid(label) for label in labels])\n",
        "\n",
        "    # Unpadded lengths needed for PyTorch to ignore padding during training.\n",
        "    unpadded_reviews_lengths_batch = torch.tensor([len(converted_review) for converted_review in converted_reviews_batch])\n",
        "\n",
        "    return padded_reviews_batch, labels_batch, unpadded_reviews_lengths_batch"
      ],
      "metadata": {
        "id": "ryCBNWpupGHG"
      },
      "execution_count": 12,
      "outputs": []
    },
    {
      "cell_type": "code",
      "source": [
        "# Mini-batch Stochastic Gradient Descent.\n",
        "train_dataloader = DataLoader(train_dataset, batch_size=64, shuffle=True, collate_fn=collate_fn, drop_last=True)\n",
        "val_dataloader   = DataLoader(val_dataset, batch_size=64, collate_fn=collate_fn, drop_last=True)\n",
        "test_dataloader  = DataLoader(test_dataset, batch_size=64, collate_fn=collate_fn, drop_last=True)"
      ],
      "metadata": {
        "id": "SsUgGg7WpIpw"
      },
      "execution_count": 13,
      "outputs": []
    },
    {
      "cell_type": "code",
      "source": [
        "print(\"Number of training batches: \", len(train_dataloader))"
      ],
      "metadata": {
        "colab": {
          "base_uri": "https://localhost:8080/"
        },
        "id": "8K38V4z4pK9v",
        "outputId": "764d4a74-e877-4fec-a1d7-4bc50c093305"
      },
      "execution_count": 14,
      "outputs": [
        {
          "output_type": "stream",
          "name": "stdout",
          "text": [
            "Number of training batches:  351\n"
          ]
        }
      ]
    },
    {
      "cell_type": "code",
      "source": [
        "from torch.nn.utils.rnn import pack_padded_sequence\n",
        "\n",
        "class RNN(nn.Module):\n",
        "    def __init__(self, num_embeddings, embedding_dim, hidden_size):\n",
        "        super(RNN, self).__init__()\n",
        "        self.embedding_layer = nn.Embedding(num_embeddings=num_embeddings, embedding_dim=embedding_dim)\n",
        "        self.lstm_recurrent_layer = nn.LSTM(input_size=embedding_dim, hidden_size=hidden_size, batch_first=True)\n",
        "        self.output_layer = nn.Linear(in_features=hidden_size, out_features=1)\n",
        "        self.sigmoid = nn.Sigmoid()\n",
        "\n",
        "    def forward(self, reviews, unpadded_reviews_lengths):\n",
        "        embeddings = self.embedding_layer(reviews)\n",
        "        # Unpadded lengths needed for PyTorch to ignore padding during training.\n",
        "        embeddings_packed = pack_padded_sequence(embeddings, unpadded_reviews_lengths.cpu(),\n",
        "                                               enforce_sorted=False, batch_first=True)\n",
        "        hidden_states_time_steps, (hidden_state, cell_state) = self.lstm_recurrent_layer(embeddings_packed)\n",
        "        current_output = self.output_layer(hidden_state)\n",
        "        sigmoid_output = self.sigmoid(current_output)\n",
        "        return sigmoid_output"
      ],
      "metadata": {
        "id": "xoqwT68MpMmM"
      },
      "execution_count": 15,
      "outputs": []
    },
    {
      "cell_type": "code",
      "source": [
        "model = RNN(num_embeddings=tokenizer.vocab_size, embedding_dim=256, hidden_size=256).to(device)\n",
        "print(model)"
      ],
      "metadata": {
        "colab": {
          "base_uri": "https://localhost:8080/"
        },
        "id": "lCAeeAZepOPe",
        "outputId": "bca40891-b4c8-4e36-cd1e-fa8088032605"
      },
      "execution_count": 16,
      "outputs": [
        {
          "output_type": "stream",
          "name": "stdout",
          "text": [
            "RNN(\n",
            "  (embedding_layer): Embedding(30522, 256)\n",
            "  (lstm_recurrent_layer): LSTM(256, 256, batch_first=True)\n",
            "  (output_layer): Linear(in_features=256, out_features=1, bias=True)\n",
            "  (sigmoid): Sigmoid()\n",
            ")\n"
          ]
        }
      ]
    },
    {
      "cell_type": "code",
      "source": [
        "# BCELoss and NOT CrossEntropyLoss, since we are now doing binary classification (Positive or Negative).\n",
        "loss_fun = nn.BCELoss()\n",
        "optimizer = torch.optim.Adam(model.parameters(), lr=0.0001)"
      ],
      "metadata": {
        "id": "CxabhythpP_k"
      },
      "execution_count": 17,
      "outputs": []
    },
    {
      "cell_type": "code",
      "source": [
        "epochs = 5\n",
        "\n",
        "train_losses_average_per_epoch = []\n",
        "train_accuracies_average_per_epoch = []\n",
        "val_losses_average_per_epoch = []\n",
        "val_accuracies_average_per_epoch = []\n",
        "\n",
        "for current_epoch in range(epochs):\n",
        "\n",
        "    cumulative_accuracy_current_epoch, cumulative_loss_current_epoch = 0, 0\n",
        "\n",
        "    for train_padded_reviews_batch, train_labels_batch, train_unpadded_reviews_lengths_batch in train_dataloader:\n",
        "        train_padded_reviews_batch = train_padded_reviews_batch.to(device)\n",
        "        train_labels_batch = train_labels_batch.to(device)\n",
        "        train_unpadded_reviews_lengths_batch = train_unpadded_reviews_lengths_batch.to(device)\n",
        "\n",
        "        # Forward pass.\n",
        "        outputs = model(train_padded_reviews_batch, train_unpadded_reviews_lengths_batch).squeeze() # squeeze changes the shape from [1, 64, 1] to [64].\n",
        "        loss = loss_fun(outputs, train_labels_batch)\n",
        "\n",
        "        # Backpropagation.\n",
        "        loss.backward() # Compute gradients.\n",
        "        optimizer.step() # Update weights.\n",
        "        optimizer.zero_grad() # Update gradients to 0 for start of next batch.\n",
        "\n",
        "        # Batch Loss.\n",
        "        cumulative_loss_current_epoch += loss.item()\n",
        "\n",
        "        # Batch Accuracy.\n",
        "        preds = (outputs > 0.5)\n",
        "        num_correct_preds = (preds == train_labels_batch).sum().item()\n",
        "        batch_accuracy = num_correct_preds / len(train_labels_batch)\n",
        "        cumulative_accuracy_current_epoch += batch_accuracy\n",
        "\n",
        "    train_loss_average_current_epoch = cumulative_loss_current_epoch / len(train_dataloader)\n",
        "    train_accuracy_average_current_epoch = cumulative_accuracy_current_epoch / len(train_dataloader)\n",
        "\n",
        "    train_losses_average_per_epoch.append(train_loss_average_current_epoch)\n",
        "    train_accuracies_average_per_epoch.append(train_accuracy_average_current_epoch)\n",
        "\n",
        "    cumulative_accuracy_current_epoch, cumulative_loss_current_epoch = 0, 0\n",
        "\n",
        "    with torch.no_grad():\n",
        "        for val_padded_reviews_batch, val_labels_batch, val_unpadded_reviews_lengths_batch in val_dataloader:\n",
        "            val_padded_reviews_batch = val_padded_reviews_batch.to(device)\n",
        "            val_labels_batch = val_labels_batch.to(device)\n",
        "            val_unpadded_reviews_lengths_batch = val_unpadded_reviews_lengths_batch.to(device)\n",
        "\n",
        "            outputs = model(val_padded_reviews_batch, val_unpadded_reviews_lengths_batch).squeeze()\n",
        "            loss = loss_fun(outputs, val_labels_batch)\n",
        "\n",
        "            # Batch Loss.\n",
        "            cumulative_loss_current_epoch += loss.item()\n",
        "\n",
        "            # Batch Accuracy.\n",
        "            preds = (outputs > 0.5)\n",
        "            num_correct_preds = (preds == val_labels_batch).sum().item()\n",
        "            batch_accuracy = num_correct_preds / len(val_labels_batch)\n",
        "            cumulative_accuracy_current_epoch += batch_accuracy\n",
        "\n",
        "    val_loss_average_current_epoch = cumulative_loss_current_epoch / len(val_dataloader)\n",
        "    val_accuracy_average_current_epoch = cumulative_accuracy_current_epoch / len(val_dataloader)\n",
        "\n",
        "    val_losses_average_per_epoch.append(val_loss_average_current_epoch)\n",
        "    val_accuracies_average_per_epoch.append(val_accuracy_average_current_epoch)\n",
        "\n",
        "    print(\n",
        "        f'Epoch {current_epoch + 1}  '\n",
        "        f'Train Loss: {train_losses_average_per_epoch[current_epoch]:.2f} '\n",
        "        f'Train Accuracy: {train_accuracies_average_per_epoch[current_epoch]:.2f} '\n",
        "        f'Val Loss: {val_losses_average_per_epoch[current_epoch]:.2f} '\n",
        "        f'Val Accuracy: {val_accuracies_average_per_epoch[current_epoch]:.2f}'\n",
        "    )"
      ],
      "metadata": {
        "id": "ZOXZIf-2pSMN",
        "colab": {
          "base_uri": "https://localhost:8080/"
        },
        "outputId": "e19fa558-1ff2-4b41-b12d-0dc54a73005c"
      },
      "execution_count": 18,
      "outputs": [
        {
          "output_type": "stream",
          "name": "stderr",
          "text": [
            "Token indices sequence length is longer than the specified maximum sequence length for this model (1139 > 512). Running this sequence through the model will result in indexing errors\n"
          ]
        },
        {
          "output_type": "stream",
          "name": "stdout",
          "text": [
            "Epoch 1  Train Loss: 0.66 Train Accuracy: 0.59 Val Loss: 0.55 Val Accuracy: 0.72\n",
            "Epoch 2  Train Loss: 0.49 Train Accuracy: 0.77 Val Loss: 0.46 Val Accuracy: 0.78\n",
            "Epoch 3  Train Loss: 0.41 Train Accuracy: 0.82 Val Loss: 0.42 Val Accuracy: 0.81\n",
            "Epoch 4  Train Loss: 0.36 Train Accuracy: 0.85 Val Loss: 0.40 Val Accuracy: 0.82\n",
            "Epoch 5  Train Loss: 0.32 Train Accuracy: 0.87 Val Loss: 0.43 Val Accuracy: 0.83\n"
          ]
        }
      ]
    },
    {
      "cell_type": "code",
      "source": [
        "cumulative_accuracy_current_epoch = 0\n",
        "\n",
        "with torch.no_grad():\n",
        "    for test_padded_reviews_batch, test_labels_batch, test_unpadded_reviews_lengths_batch in test_dataloader:\n",
        "        test_padded_reviews_batch = test_padded_reviews_batch.to(device)\n",
        "        test_labels_batch = test_labels_batch.to(device)\n",
        "        test_unpadded_reviews_lengths_batch = test_unpadded_reviews_lengths_batch.to(device)\n",
        "\n",
        "        outputs = model(test_padded_reviews_batch, test_unpadded_reviews_lengths_batch).squeeze()\n",
        "\n",
        "        # Batch Accuracy.\n",
        "        preds = (outputs > 0.5)\n",
        "        num_correct_preds = (preds == test_labels_batch).sum().item()\n",
        "        batch_accuracy = num_correct_preds / len(test_labels_batch)\n",
        "        cumulative_accuracy_current_epoch += batch_accuracy\n",
        "\n",
        "print(f'Final test accuracy: {cumulative_accuracy_current_epoch / len(test_dataloader):.2%}')"
      ],
      "metadata": {
        "colab": {
          "base_uri": "https://localhost:8080/"
        },
        "id": "iYNhJuMXpUBo",
        "outputId": "8c22130b-be73-43ba-9e9f-c330a53af217"
      },
      "execution_count": 19,
      "outputs": [
        {
          "output_type": "stream",
          "name": "stdout",
          "text": [
            "Final test accuracy: 83.92%\n"
          ]
        }
      ]
    },
    {
      "cell_type": "code",
      "source": [
        "import matplotlib.pyplot as plt\n",
        "\n",
        "fig, axs = plt.subplots(1, 2, figsize=(14, 5))\n",
        "\n",
        "metrics = [\n",
        "    (train_losses_average_per_epoch, val_losses_average_per_epoch, 'Loss'),\n",
        "    (train_accuracies_average_per_epoch, val_accuracies_average_per_epoch, 'Accuracy')\n",
        "]\n",
        "\n",
        "for i, (train_data, val_data, metric_name) in enumerate(metrics):\n",
        "    ax = axs[i]\n",
        "    ax.plot(train_data, label='Training ' + metric_name)\n",
        "    ax.plot(val_data, label='Validation ' + metric_name)\n",
        "    ax.set_xlabel('Epoch')\n",
        "    ax.set_ylabel(metric_name)\n",
        "    ax.legend()\n",
        "\n",
        "plt.show()"
      ],
      "metadata": {
        "colab": {
          "base_uri": "https://localhost:8080/",
          "height": 418
        },
        "id": "UVm7kZJFpWSU",
        "outputId": "a8125817-ebc6-4070-ad38-bb71759e0908"
      },
      "execution_count": 20,
      "outputs": [
        {
          "output_type": "display_data",
          "data": {
            "text/plain": [
              "<Figure size 1400x500 with 2 Axes>"
            ],
            "image/png": "[encoded data removed]"
          },
          "metadata": {}
        }
      ]
    },
    {
      "cell_type": "code",
      "source": [
        "def predict_review(review):\n",
        "    with torch.no_grad():\n",
        "        converted_reviews_batch = torch.tensor(str_to_list_nums(review)).unsqueeze(0) # unsqueeze to specify a batch size of 1.\n",
        "        unpadded_reviews_lengths_batch = torch.tensor([len(converted_review) for converted_review in converted_reviews_batch])\n",
        "\n",
        "        outputs = model(converted_reviews_batch, unpadded_reviews_lengths_batch)\n",
        "        return outputs.item()\n",
        "\n",
        "model.to(\"cpu\")\n",
        "\n",
        "for review in [\"I loved this movie\", \"I want to see this amazing movie again\", \"I hated this movie\", \"I regret watching this movie\"]:\n",
        "    print(f\"{review}:\\n{predict_review(review)}\\n\")"
      ],
      "metadata": {
        "colab": {
          "base_uri": "https://localhost:8080/"
        },
        "id": "PyWyTN6NpZHK",
        "outputId": "52ec93a0-e782-4cde-d7ac-912aec03d698"
      },
      "execution_count": 21,
      "outputs": [
        {
          "output_type": "stream",
          "name": "stdout",
          "text": [
            "I loved this movie:\n",
            "0.5787197947502136\n",
            "\n",
            "I want to see this amazing movie again:\n",
            "0.6179978251457214\n",
            "\n",
            "I hated this movie:\n",
            "0.4628269076347351\n",
            "\n",
            "I regret watching this movie:\n",
            "0.3967205286026001\n",
            "\n"
          ]
        }
      ]
    }
  ]
}