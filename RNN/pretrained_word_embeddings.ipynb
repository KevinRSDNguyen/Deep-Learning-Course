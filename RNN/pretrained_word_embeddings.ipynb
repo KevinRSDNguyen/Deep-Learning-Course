{
  "nbformat": 4,
  "nbformat_minor": 0,
  "metadata": {
    "colab": {
      "provenance": []
    },
    "kernelspec": {
      "name": "python3",
      "display_name": "Python 3"
    },
    "language_info": {
      "name": "python"
    }
  },
  "cells": [
    {
      "cell_type": "code",
      "execution_count": 1,
      "metadata": {
        "id": "miOajmTW7ewu",
        "colab": {
          "base_uri": "https://localhost:8080/"
        },
        "outputId": "3410c736-3950-432f-94df-4c0296bffb62"
      },
      "outputs": [
        {
          "output_type": "stream",
          "name": "stdout",
          "text": [
            "[==================================================] 100.0% 104.8/104.8MB downloaded\n"
          ]
        }
      ],
      "source": [
        "import gensim.downloader as api\n",
        "pretrained_word_embeddings = api.load('glove-twitter-25')\n",
        "cat_word_embedding = pretrained_word_embeddings['cat']"
      ]
    },
    {
      "cell_type": "code",
      "source": [
        "cat_word_embedding.shape"
      ],
      "metadata": {
        "id": "w80tuuqb7g7v",
        "colab": {
          "base_uri": "https://localhost:8080/"
        },
        "outputId": "ffa48064-f909-41e6-fc9d-5d35e05f68c3"
      },
      "execution_count": 2,
      "outputs": [
        {
          "output_type": "execute_result",
          "data": {
            "text/plain": [
              "(25,)"
            ]
          },
          "metadata": {},
          "execution_count": 2
        }
      ]
    },
    {
      "cell_type": "code",
      "source": [
        "cat_word_embedding"
      ],
      "metadata": {
        "id": "C34fzjOY7icK",
        "colab": {
          "base_uri": "https://localhost:8080/"
        },
        "outputId": "1f08455f-fe8a-4718-bcd1-b1ff57185103"
      },
      "execution_count": 3,
      "outputs": [
        {
          "output_type": "execute_result",
          "data": {
            "text/plain": [
              "array([-0.96419 , -0.60978 ,  0.67449 ,  0.35113 ,  0.41317 , -0.21241 ,\n",
              "        1.3796  ,  0.12854 ,  0.31567 ,  0.66325 ,  0.3391  , -0.18934 ,\n",
              "       -3.325   , -1.1491  , -0.4129  ,  0.2195  ,  0.8706  , -0.50616 ,\n",
              "       -0.12781 , -0.066965,  0.065761,  0.43927 ,  0.1758  , -0.56058 ,\n",
              "        0.13529 ], dtype=float32)"
            ]
          },
          "metadata": {},
          "execution_count": 3
        }
      ]
    },
    {
      "cell_type": "code",
      "source": [
        "pretrained_word_embeddings.similarity(\"cat\", \"cat\")"
      ],
      "metadata": {
        "colab": {
          "base_uri": "https://localhost:8080/"
        },
        "id": "QLLWNfcw711Z",
        "outputId": "a7a8859f-5e05-4cb9-99ba-cdafb1488db9"
      },
      "execution_count": 4,
      "outputs": [
        {
          "output_type": "execute_result",
          "data": {
            "text/plain": [
              "0.99999994"
            ]
          },
          "metadata": {},
          "execution_count": 4
        }
      ]
    },
    {
      "cell_type": "code",
      "source": [
        "pretrained_word_embeddings.similarity(\"cat\", \"computer\")"
      ],
      "metadata": {
        "colab": {
          "base_uri": "https://localhost:8080/"
        },
        "id": "E2iFEIpF73l0",
        "outputId": "2281b5c2-e08d-494b-ed7a-26275304285d"
      },
      "execution_count": 5,
      "outputs": [
        {
          "output_type": "execute_result",
          "data": {
            "text/plain": [
              "0.66849303"
            ]
          },
          "metadata": {},
          "execution_count": 5
        }
      ]
    },
    {
      "cell_type": "code",
      "source": [
        "pretrained_word_embeddings.similarity(\"cat\", \"dog\")"
      ],
      "metadata": {
        "colab": {
          "base_uri": "https://localhost:8080/"
        },
        "id": "PNhKF8kV75Dv",
        "outputId": "ea35144f-188d-4d4f-880c-e7edfcbbb07f"
      },
      "execution_count": 6,
      "outputs": [
        {
          "output_type": "execute_result",
          "data": {
            "text/plain": [
              "0.95908207"
            ]
          },
          "metadata": {},
          "execution_count": 6
        }
      ]
    }
  ]
}