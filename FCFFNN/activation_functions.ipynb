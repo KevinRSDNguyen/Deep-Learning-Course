{
  "nbformat": 4,
  "nbformat_minor": 0,
  "metadata": {
    "colab": {
      "provenance": []
    },
    "kernelspec": {
      "name": "python3",
      "display_name": "Python 3"
    },
    "language_info": {
      "name": "python"
    }
  },
  "cells": [
    {
      "cell_type": "code",
      "execution_count": null,
      "metadata": {
        "id": "f3jhOq5_tSzZ"
      },
      "outputs": [],
      "source": [
        "import torch"
      ]
    },
    {
      "cell_type": "code",
      "source": [
        "print(\"sigmoid(-2) --> \", torch.sigmoid(torch.tensor(-2.)).detach().item())\n",
        "print(\"sigmoid(0) --> \", torch.sigmoid(torch.tensor(0)).detach().item())\n",
        "print(\"sigmoid(2) --> \", torch.sigmoid(torch.tensor(2)).detach().item())"
      ],
      "metadata": {
        "colab": {
          "base_uri": "https://localhost:8080/"
        },
        "id": "0IarpxIa0PG6",
        "outputId": "6aad93df-ebcc-4576-a6e6-9a8e055dd938"
      },
      "execution_count": null,
      "outputs": [
        {
          "output_type": "stream",
          "name": "stdout",
          "text": [
            "sigmoid(-2) -->  0.11920291930437088\n",
            "sigmoid(0) -->  0.5\n",
            "sigmoid(2) -->  0.8807970285415649\n"
          ]
        }
      ]
    },
    {
      "cell_type": "code",
      "source": [
        "print(\"softmax([-1, 1, 2]) --> \", torch.softmax(torch.tensor([-1.0, 1.0, 2.0]), dim=0).tolist())\n",
        "print(\"softmax([-2, -1, 0, 1, 2]) --> \", torch.softmax(torch.tensor([-2.0, -1.0, 0.0, 1.0, 2.0]), dim=0).tolist())"
      ],
      "metadata": {
        "colab": {
          "base_uri": "https://localhost:8080/"
        },
        "id": "ZgzT-I0b1KU_",
        "outputId": "d3138ad4-2541-4cce-b856-afafc70cf2c2"
      },
      "execution_count": null,
      "outputs": [
        {
          "output_type": "stream",
          "name": "stdout",
          "text": [
            "softmax([-1, 1, 2]) -->  [0.03511902317404747, 0.25949645042419434, 0.7053844928741455]\n",
            "softmax([-2, -1, 0, 1, 2]) -->  [0.011656231246888638, 0.03168492019176483, 0.08612854033708572, 0.2341216504573822, 0.6364086270332336]\n"
          ]
        }
      ]
    },
    {
      "cell_type": "code",
      "source": [
        "def relu(input):\n",
        "    return max(0, input)\n",
        "\n",
        "print(\"relu(-5) --> \", relu(-5))\n",
        "print(\"relu(-100) --> \", relu(-100))\n",
        "print(\"relu(5) --> \", relu(5))\n",
        "print(\"relu(100) --> \", relu(100))"
      ],
      "metadata": {
        "id": "Qvlj8iz8vXMm",
        "colab": {
          "base_uri": "https://localhost:8080/"
        },
        "outputId": "2da7fa51-8c97-4e15-e6dc-7585d998fdaf"
      },
      "execution_count": null,
      "outputs": [
        {
          "output_type": "stream",
          "name": "stdout",
          "text": [
            "relu(-5) -->  0\n",
            "relu(-100) -->  0\n",
            "relu(5) -->  5\n",
            "relu(100) -->  100\n"
          ]
        }
      ]
    },
    {
      "cell_type": "code",
      "source": [
        "def leaky_relu(input):\n",
        "    return input if input > 0 else input * 0.25\n",
        "\n",
        "print(\"leaky_relu(-4) --> \", leaky_relu(-4))\n",
        "print(\"leaky_relu(-100) --> \", leaky_relu(-100))\n",
        "print(\"leaky_relu(5) --> \", leaky_relu(5))\n",
        "print(\"leaky_relu(100) --> \", leaky_relu(100))"
      ],
      "metadata": {
        "colab": {
          "base_uri": "https://localhost:8080/"
        },
        "id": "FOmUpf0QFRM-",
        "outputId": "6a1e73c8-7c1f-4d7a-d0dd-f18b3910a4c7"
      },
      "execution_count": null,
      "outputs": [
        {
          "output_type": "stream",
          "name": "stdout",
          "text": [
            "leaky_relu(-4) -->  -1.0\n",
            "leaky_relu(-100) -->  -25.0\n",
            "leaky_relu(5) -->  5\n",
            "leaky_relu(100) -->  100\n"
          ]
        }
      ]
    },
    {
      "cell_type": "code",
      "source": [],
      "metadata": {
        "id": "YrSgLO1iHKNC"
      },
      "execution_count": null,
      "outputs": []
    }
  ]
}